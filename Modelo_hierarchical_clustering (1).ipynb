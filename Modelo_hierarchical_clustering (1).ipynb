{
 "cells": [
  {
   "cell_type": "markdown",
   "id": "df6745ae-eadd-40c0-8399-a761ecc55977",
   "metadata": {
    "id": "df6745ae-eadd-40c0-8399-a761ecc55977"
   },
   "source": [
    "## UNAD"
   ]
  },
  {
   "cell_type": "markdown",
   "id": "dd1f6081-740f-45b8-a974-f4c280348525",
   "metadata": {
    "id": "dd1f6081-740f-45b8-a974-f4c280348525"
   },
   "source": [
    "## Tarea 4_Algoritmos de Aprendizaje no Supervisado"
   ]
  },
  {
   "cell_type": "markdown",
   "id": "4d9e27b3-792a-4f4c-a2e0-af7abace8de2",
   "metadata": {
    "id": "4d9e27b3-792a-4f4c-a2e0-af7abace8de2"
   },
   "source": [
    "## Datos de segmentación de clientes de centros comerciales"
   ]
  },
  {
   "cell_type": "markdown",
   "id": "e5d533d1-6cf0-4d96-a449-df2e9c95f367",
   "metadata": {
    "id": "e5d533d1-6cf0-4d96-a449-df2e9c95f367"
   },
   "source": [
    "## Pasos de la actividad"
   ]
  },
  {
   "cell_type": "code",
   "execution_count": 84,
   "id": "6e6ef16e-2ae5-49f2-bdd9-52454b8b7952",
   "metadata": {
    "id": "6e6ef16e-2ae5-49f2-bdd9-52454b8b7952"
   },
   "outputs": [],
   "source": [
    "#1. Realizar un análisis exploratorio de los datos para identificar relaciones entre variables, valores atípicos, tendencias, etc.\n",
    "#2.Preprocesar los datos limpiándolos, tratando valores faltantes y transformándolos según sea necesario.\n",
    "#3.Seleccionar las características más relevantes para entrenar el modelo utilizando selección de características.\n",
    "#4.Entrenar el modelo configurando los diferentes hiperparámetros.\n",
    "#5 Evaluar el desempeño del modelo con métricas como Coeficiente de Silhouette, Índice de Calinski-Harabasz, etc.\n",
    "#6 Realizar las diferentes gráficas que permitan visualizar los resultados del modelo.\n",
    "#7 Interpretar, analizar y documentar los resultados obtenidos.\n",
    "#Crear una cuenta en GitHub y cargar los códigos de los modelos diseñados https://github.com/."
   ]
  },
  {
   "cell_type": "markdown",
   "id": "b7ffeab5-fb4a-454e-9a28-f661f7dd17fe",
   "metadata": {
    "id": "b7ffeab5-fb4a-454e-9a28-f661f7dd17fe"
   },
   "source": [
    "## 1. Realizar un análisis exploratorio de los datos para identificar relaciones entre variables, valores atípicos, tendencias, etc."
   ]
  },
  {
   "cell_type": "code",
   "execution_count": 5,
   "id": "7f18f7ea-6929-419d-a564-c7256a7eb6a4",
   "metadata": {
    "id": "7f18f7ea-6929-419d-a564-c7256a7eb6a4"
   },
   "outputs": [],
   "source": [
    "#Cargar las librerias necesarias\n",
    "\n",
    "\n",
    "import pandas as pd # Manejo y análisis de estructuras de datos\n",
    "import numpy as np # Cálculo numérico y el análisis de datos\n",
    "import seaborn as sns # Creación gráficos estadísticos\n",
    "import matplotlib.pyplot as plt # Creación de gráficos en dos dimensiones\n",
    "import plotly.graph_objs as go # Creación de gráficos en tres dimensiones\n",
    "import plotly.express as px # Creación de gráficos en tres dimensiones\n",
    "\n",
    "\n",
    "# librerías de para implementar modelo Kmeans\n",
    "from sklearn.cluster import AgglomerativeClustering #algoritmos de agrupamiento o clustering, dividir datos en grupos o clusters basados en su similitud.\n",
    "from sklearn.preprocessing import StandardScaler #escalar o normalizar los datos\n",
    "from scipy.cluster.hierarchy import linkage, dendrogram #herramientas para realizar agrupamiento jerárquico y visualización de dendrogramas.\n",
    "#dendrogram:  genera un gráfico de árbol\n",
    "\n",
    "# librerías de para evaluar el modelo\n",
    "from sklearn.metrics import silhouette_score, calinski_harabasz_score, davies_bouldin_score\n",
    "from datetime import datetime\n",
    "\n",
    "#Librería para evitar la advertencia de que el modelo tiene una pérdida de memoria en Windows\n",
    "import warnings\n",
    "warnings.filterwarnings('ignore')"
   ]
  },
  {
   "cell_type": "code",
   "execution_count": 9,
   "id": "7375004f-f404-40ce-9ea5-f38ee07a1036",
   "metadata": {
    "id": "7375004f-f404-40ce-9ea5-f38ee07a1036"
   },
   "outputs": [],
   "source": [
    "# lectura de datos en Python y lo cargamos en la variable Datos\n",
    "\n",
    "Datos = pd.read_csv('C:/UNAD_TAREA_4/BD/Mall_Customers.csv')"
   ]
  },
  {
   "cell_type": "markdown",
   "id": "emBJhm5PgWkX",
   "metadata": {
    "id": "emBJhm5PgWkX"
   },
   "source": []
  },
  {
   "cell_type": "code",
   "execution_count": 11,
   "id": "377cb60e-6be0-41da-8463-1b675f1570c0",
   "metadata": {
    "colab": {
     "base_uri": "https://localhost:8080/",
     "height": 424
    },
    "id": "377cb60e-6be0-41da-8463-1b675f1570c0",
    "outputId": "f3b0ed5b-3498-419a-8d79-7cd60f01ba8e"
   },
   "outputs": [
    {
     "data": {
      "text/html": [
       "<div>\n",
       "<style scoped>\n",
       "    .dataframe tbody tr th:only-of-type {\n",
       "        vertical-align: middle;\n",
       "    }\n",
       "\n",
       "    .dataframe tbody tr th {\n",
       "        vertical-align: top;\n",
       "    }\n",
       "\n",
       "    .dataframe thead th {\n",
       "        text-align: right;\n",
       "    }\n",
       "</style>\n",
       "<table border=\"1\" class=\"dataframe\">\n",
       "  <thead>\n",
       "    <tr style=\"text-align: right;\">\n",
       "      <th></th>\n",
       "      <th>CustomerID</th>\n",
       "      <th>Gender</th>\n",
       "      <th>Age</th>\n",
       "      <th>Annual Income (k$)</th>\n",
       "      <th>Spending Score (1-100)</th>\n",
       "    </tr>\n",
       "  </thead>\n",
       "  <tbody>\n",
       "    <tr>\n",
       "      <th>0</th>\n",
       "      <td>1</td>\n",
       "      <td>Male</td>\n",
       "      <td>19</td>\n",
       "      <td>15</td>\n",
       "      <td>39</td>\n",
       "    </tr>\n",
       "    <tr>\n",
       "      <th>1</th>\n",
       "      <td>2</td>\n",
       "      <td>Male</td>\n",
       "      <td>21</td>\n",
       "      <td>15</td>\n",
       "      <td>81</td>\n",
       "    </tr>\n",
       "    <tr>\n",
       "      <th>2</th>\n",
       "      <td>3</td>\n",
       "      <td>Female</td>\n",
       "      <td>20</td>\n",
       "      <td>16</td>\n",
       "      <td>6</td>\n",
       "    </tr>\n",
       "    <tr>\n",
       "      <th>3</th>\n",
       "      <td>4</td>\n",
       "      <td>Female</td>\n",
       "      <td>23</td>\n",
       "      <td>16</td>\n",
       "      <td>77</td>\n",
       "    </tr>\n",
       "    <tr>\n",
       "      <th>4</th>\n",
       "      <td>5</td>\n",
       "      <td>Female</td>\n",
       "      <td>31</td>\n",
       "      <td>17</td>\n",
       "      <td>40</td>\n",
       "    </tr>\n",
       "    <tr>\n",
       "      <th>...</th>\n",
       "      <td>...</td>\n",
       "      <td>...</td>\n",
       "      <td>...</td>\n",
       "      <td>...</td>\n",
       "      <td>...</td>\n",
       "    </tr>\n",
       "    <tr>\n",
       "      <th>95</th>\n",
       "      <td>96</td>\n",
       "      <td>Male</td>\n",
       "      <td>24</td>\n",
       "      <td>60</td>\n",
       "      <td>52</td>\n",
       "    </tr>\n",
       "    <tr>\n",
       "      <th>96</th>\n",
       "      <td>97</td>\n",
       "      <td>Female</td>\n",
       "      <td>47</td>\n",
       "      <td>60</td>\n",
       "      <td>47</td>\n",
       "    </tr>\n",
       "    <tr>\n",
       "      <th>97</th>\n",
       "      <td>98</td>\n",
       "      <td>Female</td>\n",
       "      <td>27</td>\n",
       "      <td>60</td>\n",
       "      <td>50</td>\n",
       "    </tr>\n",
       "    <tr>\n",
       "      <th>98</th>\n",
       "      <td>99</td>\n",
       "      <td>Male</td>\n",
       "      <td>48</td>\n",
       "      <td>61</td>\n",
       "      <td>42</td>\n",
       "    </tr>\n",
       "    <tr>\n",
       "      <th>99</th>\n",
       "      <td>100</td>\n",
       "      <td>Male</td>\n",
       "      <td>20</td>\n",
       "      <td>61</td>\n",
       "      <td>49</td>\n",
       "    </tr>\n",
       "  </tbody>\n",
       "</table>\n",
       "<p>100 rows × 5 columns</p>\n",
       "</div>"
      ],
      "text/plain": [
       "    CustomerID  Gender  Age  Annual Income (k$)  Spending Score (1-100)\n",
       "0            1    Male   19                  15                      39\n",
       "1            2    Male   21                  15                      81\n",
       "2            3  Female   20                  16                       6\n",
       "3            4  Female   23                  16                      77\n",
       "4            5  Female   31                  17                      40\n",
       "..         ...     ...  ...                 ...                     ...\n",
       "95          96    Male   24                  60                      52\n",
       "96          97  Female   47                  60                      47\n",
       "97          98  Female   27                  60                      50\n",
       "98          99    Male   48                  61                      42\n",
       "99         100    Male   20                  61                      49\n",
       "\n",
       "[100 rows x 5 columns]"
      ]
     },
     "execution_count": 11,
     "metadata": {},
     "output_type": "execute_result"
    }
   ],
   "source": [
    "#Lectura de datos y análisis correspondiente\n",
    "Datos.head(100)"
   ]
  },
  {
   "cell_type": "code",
   "execution_count": 5,
   "id": "de200334-3ad1-4747-b901-78be1bf206d8",
   "metadata": {
    "id": "de200334-3ad1-4747-b901-78be1bf206d8"
   },
   "outputs": [],
   "source": [
    "#Idéntificaciíon única asignada al cliente-genero-edad-ingresos anuales-puntuacióin de gasto."
   ]
  },
  {
   "cell_type": "code",
   "execution_count": 13,
   "id": "d05068a7-22aa-433c-ab7c-72ddbc035d80",
   "metadata": {
    "colab": {
     "base_uri": "https://localhost:8080/",
     "height": 300
    },
    "id": "d05068a7-22aa-433c-ab7c-72ddbc035d80",
    "outputId": "88c869b3-5d40-4d29-ef61-b9718e454b85"
   },
   "outputs": [
    {
     "data": {
      "text/html": [
       "<div>\n",
       "<style scoped>\n",
       "    .dataframe tbody tr th:only-of-type {\n",
       "        vertical-align: middle;\n",
       "    }\n",
       "\n",
       "    .dataframe tbody tr th {\n",
       "        vertical-align: top;\n",
       "    }\n",
       "\n",
       "    .dataframe thead th {\n",
       "        text-align: right;\n",
       "    }\n",
       "</style>\n",
       "<table border=\"1\" class=\"dataframe\">\n",
       "  <thead>\n",
       "    <tr style=\"text-align: right;\">\n",
       "      <th></th>\n",
       "      <th>CustomerID</th>\n",
       "      <th>Age</th>\n",
       "      <th>Annual Income (k$)</th>\n",
       "      <th>Spending Score (1-100)</th>\n",
       "    </tr>\n",
       "  </thead>\n",
       "  <tbody>\n",
       "    <tr>\n",
       "      <th>count</th>\n",
       "      <td>200.000000</td>\n",
       "      <td>200.000000</td>\n",
       "      <td>200.000000</td>\n",
       "      <td>200.000000</td>\n",
       "    </tr>\n",
       "    <tr>\n",
       "      <th>mean</th>\n",
       "      <td>100.500000</td>\n",
       "      <td>38.850000</td>\n",
       "      <td>60.560000</td>\n",
       "      <td>50.200000</td>\n",
       "    </tr>\n",
       "    <tr>\n",
       "      <th>std</th>\n",
       "      <td>57.879185</td>\n",
       "      <td>13.969007</td>\n",
       "      <td>26.264721</td>\n",
       "      <td>25.823522</td>\n",
       "    </tr>\n",
       "    <tr>\n",
       "      <th>min</th>\n",
       "      <td>1.000000</td>\n",
       "      <td>18.000000</td>\n",
       "      <td>15.000000</td>\n",
       "      <td>1.000000</td>\n",
       "    </tr>\n",
       "    <tr>\n",
       "      <th>25%</th>\n",
       "      <td>50.750000</td>\n",
       "      <td>28.750000</td>\n",
       "      <td>41.500000</td>\n",
       "      <td>34.750000</td>\n",
       "    </tr>\n",
       "    <tr>\n",
       "      <th>50%</th>\n",
       "      <td>100.500000</td>\n",
       "      <td>36.000000</td>\n",
       "      <td>61.500000</td>\n",
       "      <td>50.000000</td>\n",
       "    </tr>\n",
       "    <tr>\n",
       "      <th>75%</th>\n",
       "      <td>150.250000</td>\n",
       "      <td>49.000000</td>\n",
       "      <td>78.000000</td>\n",
       "      <td>73.000000</td>\n",
       "    </tr>\n",
       "    <tr>\n",
       "      <th>max</th>\n",
       "      <td>200.000000</td>\n",
       "      <td>70.000000</td>\n",
       "      <td>137.000000</td>\n",
       "      <td>99.000000</td>\n",
       "    </tr>\n",
       "  </tbody>\n",
       "</table>\n",
       "</div>"
      ],
      "text/plain": [
       "       CustomerID         Age  Annual Income (k$)  Spending Score (1-100)\n",
       "count  200.000000  200.000000          200.000000              200.000000\n",
       "mean   100.500000   38.850000           60.560000               50.200000\n",
       "std     57.879185   13.969007           26.264721               25.823522\n",
       "min      1.000000   18.000000           15.000000                1.000000\n",
       "25%     50.750000   28.750000           41.500000               34.750000\n",
       "50%    100.500000   36.000000           61.500000               50.000000\n",
       "75%    150.250000   49.000000           78.000000               73.000000\n",
       "max    200.000000   70.000000          137.000000               99.000000"
      ]
     },
     "execution_count": 13,
     "metadata": {},
     "output_type": "execute_result"
    }
   ],
   "source": [
    "# Descripción de los datos\n",
    "Datos.describe()"
   ]
  },
  {
   "cell_type": "code",
   "execution_count": 15,
   "id": "eb996462-eedc-4471-ab70-e661c6f8ce20",
   "metadata": {
    "colab": {
     "base_uri": "https://localhost:8080/"
    },
    "id": "eb996462-eedc-4471-ab70-e661c6f8ce20",
    "outputId": "d7fcd90f-9d2c-4cbc-fdde-220e2f4f4ee5"
   },
   "outputs": [
    {
     "name": "stdout",
     "output_type": "stream",
     "text": [
      "<class 'pandas.core.frame.DataFrame'>\n",
      "RangeIndex: 200 entries, 0 to 199\n",
      "Data columns (total 5 columns):\n",
      " #   Column                  Non-Null Count  Dtype \n",
      "---  ------                  --------------  ----- \n",
      " 0   CustomerID              200 non-null    int64 \n",
      " 1   Gender                  200 non-null    object\n",
      " 2   Age                     200 non-null    int64 \n",
      " 3   Annual Income (k$)      200 non-null    int64 \n",
      " 4   Spending Score (1-100)  200 non-null    int64 \n",
      "dtypes: int64(4), object(1)\n",
      "memory usage: 7.9+ KB\n",
      "None\n"
     ]
    }
   ],
   "source": [
    "# Obtener informacióin sobrel tipo de datos y el total de valores en cada columna\n",
    "print(Datos.info())"
   ]
  },
  {
   "cell_type": "code",
   "execution_count": 17,
   "id": "31a1a4c2-fda5-43ba-bdaf-fa664ff23438",
   "metadata": {
    "colab": {
     "base_uri": "https://localhost:8080/",
     "height": 349
    },
    "id": "31a1a4c2-fda5-43ba-bdaf-fa664ff23438",
    "outputId": "27343f9d-ef9d-4a9c-8306-839743cb4047"
   },
   "outputs": [
    {
     "data": {
      "text/plain": [
       "Text(0.5, 1.0, 'Identificación de Datos Faltantes y Atípicos')"
      ]
     },
     "execution_count": 17,
     "metadata": {},
     "output_type": "execute_result"
    },
    {
     "data": {
      "image/png": "[encoded data removed]",
      "text/plain": [
       "<Figure size 600x300 with 1 Axes>"
      ]
     },
     "metadata": {},
     "output_type": "display_data"
    }
   ],
   "source": [
    "#Identificación de Datos Faltantes y Atípicos\n",
    "\n",
    "plt.figure(figsize=(6, 3))\n",
    "sns.boxplot(x=Datos['CustomerID'])\n",
    "plt.title('Identificación de Datos Faltantes y Atípicos', fontsize=10 )"
   ]
  },
  {
   "cell_type": "code",
   "execution_count": 19,
   "id": "0cc8c13f-4926-41e3-b30a-edaa2146fa63",
   "metadata": {
    "colab": {
     "base_uri": "https://localhost:8080/",
     "height": 349
    },
    "id": "0cc8c13f-4926-41e3-b30a-edaa2146fa63",
    "outputId": "c0e27531-f542-4d08-ba4f-8bbf2d6e9e3b"
   },
   "outputs": [
    {
     "data": {
      "text/plain": [
       "Text(0.5, 1.0, 'Identificación de Datos Faltantes y Atípicos')"
      ]
     },
     "execution_count": 19,
     "metadata": {},
     "output_type": "execute_result"
    },
    {
     "data": {
      "image/png": "[encoded data removed]",
      "text/plain": [
       "<Figure size 600x300 with 1 Axes>"
      ]
     },
     "metadata": {},
     "output_type": "display_data"
    }
   ],
   "source": [
    "#Identificación de Datos Faltantes y Atípicos\n",
    "\n",
    "plt.figure(figsize=(6, 3))\n",
    "sns.boxplot(x=Datos['Age'])\n",
    "plt.title('Identificación de Datos Faltantes y Atípicos', fontsize=10 )"
   ]
  },
  {
   "cell_type": "markdown",
   "id": "0fbd7485-6453-4495-ba5d-051364eac228",
   "metadata": {
    "id": "0fbd7485-6453-4495-ba5d-051364eac228"
   },
   "source": [
    "## 2. Preprocesar los datos limpiándolos, tratando valores faltantes y transformándolos según sea necesario"
   ]
  },
  {
   "cell_type": "code",
   "execution_count": 21,
   "id": "716467f3-9acb-4433-9e23-07281dfe6385",
   "metadata": {
    "colab": {
     "base_uri": "https://localhost:8080/"
    },
    "id": "716467f3-9acb-4433-9e23-07281dfe6385",
    "outputId": "ed89c14f-db75-4baa-8163-880b85dfa788"
   },
   "outputs": [
    {
     "name": "stdout",
     "output_type": "stream",
     "text": [
      "Cantidad de Registros con cero en Edad:  0\n",
      "Cantidad de Registros con cero en Salario:  0\n"
     ]
    }
   ],
   "source": [
    "#Revisión de datos faltantes\n",
    "\n",
    "print(\"Cantidad de Registros con cero en Edad: \",Datos['CustomerID'].isin([0]).sum())\n",
    "print(\"Cantidad de Registros con cero en Salario: \",Datos['Age'].isin([0]).sum())"
   ]
  },
  {
   "cell_type": "code",
   "execution_count": 25,
   "id": "84099cbe-2679-47b6-8070-4a3f47d3af15",
   "metadata": {
    "id": "84099cbe-2679-47b6-8070-4a3f47d3af15"
   },
   "outputs": [],
   "source": [
    "# Reemplazar todos los ceros con el valor medio (promedio) de la columna.\n",
    "\n",
    "Datos['CustomerID']=Datos['CustomerID'].replace(0,Datos['CustomerID'].mean())"
   ]
  },
  {
   "cell_type": "code",
   "execution_count": 12,
   "id": "de94d7ef-5af8-4827-917c-aa39026b4233",
   "metadata": {
    "colab": {
     "base_uri": "https://localhost:8080/"
    },
    "id": "de94d7ef-5af8-4827-917c-aa39026b4233",
    "outputId": "cd7e6371-d3fa-45de-d00a-09bbaa71cb82"
   },
   "outputs": [
    {
     "name": "stdout",
     "output_type": "stream",
     "text": [
      "CustomerID                0\n",
      "Gender                    0\n",
      "Age                       0\n",
      "Annual Income (k$)        0\n",
      "Spending Score (1-100)    0\n",
      "dtype: int64\n"
     ]
    }
   ],
   "source": [
    "#Idéntificar columnas con datos faltantes\n",
    "print(Datos.isnull().sum())"
   ]
  },
  {
   "cell_type": "code",
   "execution_count": 27,
   "id": "2fa25b34-5ba9-41f6-b933-82a1b28d3266",
   "metadata": {
    "colab": {
     "base_uri": "https://localhost:8080/",
     "height": 348
    },
    "id": "2fa25b34-5ba9-41f6-b933-82a1b28d3266",
    "outputId": "74c206fc-1593-4979-f6b1-ed41a5211fd8"
   },
   "outputs": [
    {
     "data": {
      "text/plain": [
       "Text(0.5, 1.0, 'identificacion de datos')"
      ]
     },
     "execution_count": 27,
     "metadata": {},
     "output_type": "execute_result"
    },
    {
     "data": {
      "image/png": "[encoded data removed]",
      "text/plain": [
       "<Figure size 600x300 with 1 Axes>"
      ]
     },
     "metadata": {},
     "output_type": "display_data"
    }
   ],
   "source": [
    "# Idéntificar valores atípicos\n",
    "plt.figure(figsize=(6,3))\n",
    "sns.boxplot(x=Datos['CustomerID'])\n",
    "plt.title('identificacion de datos', fontsize=10)"
   ]
  },
  {
   "cell_type": "code",
   "execution_count": 29,
   "id": "22fec05c-3af1-4fb4-8e38-86509a9f7ca2",
   "metadata": {
    "colab": {
     "base_uri": "https://localhost:8080/"
    },
    "id": "22fec05c-3af1-4fb4-8e38-86509a9f7ca2",
    "outputId": "8e2d30d8-0606-4ae0-df38-63ce491bbc8f"
   },
   "outputs": [
    {
     "name": "stdout",
     "output_type": "stream",
     "text": [
      "El total de datos atípicos es 0\n"
     ]
    }
   ],
   "source": [
    "#Conteo de Datos Atípicos\n",
    "\n",
    "nivel_minimo=0\n",
    "nivel_maximo=100\n",
    "Total_Atipicos=((Datos['Age']<nivel_minimo)|(Datos['Age']>nivel_maximo)).sum()\n",
    "print(\"El total de datos atípicos es {}\".format(Total_Atipicos))"
   ]
  },
  {
   "cell_type": "code",
   "execution_count": 31,
   "id": "49707044-7c1d-4fc2-9c37-e7a0b3854e27",
   "metadata": {
    "colab": {
     "base_uri": "https://localhost:8080/"
    },
    "id": "49707044-7c1d-4fc2-9c37-e7a0b3854e27",
    "outputId": "73c9c7ef-5bbe-4d22-8e4b-82fec7389eec"
   },
   "outputs": [
    {
     "name": "stdout",
     "output_type": "stream",
     "text": [
      "El total de datos atípicos es 100\n"
     ]
    }
   ],
   "source": [
    "#Conteo de Datos Atípicos\n",
    "\n",
    "nivel_minimo=0\n",
    "nivel_maximo=100\n",
    "Total_Atipicos=((Datos['CustomerID']<nivel_minimo)|(Datos['CustomerID']>nivel_maximo)).sum()\n",
    "print(\"El total de datos atípicos es {}\".format(Total_Atipicos))"
   ]
  },
  {
   "cell_type": "code",
   "execution_count": 33,
   "id": "ef1b8216-c9de-43aa-abdb-ad3c1f315d7b",
   "metadata": {
    "id": "ef1b8216-c9de-43aa-abdb-ad3c1f315d7b"
   },
   "outputs": [],
   "source": [
    "# Filtra Datos Atípicos\n",
    "\n",
    "Datos=Datos[(Datos['Age']<nivel_maximo)&(Datos['Age']>nivel_minimo)]"
   ]
  },
  {
   "cell_type": "code",
   "execution_count": 35,
   "id": "c86c9a5d-471e-4959-b3f4-a6b383a3e2a6",
   "metadata": {
    "colab": {
     "base_uri": "https://localhost:8080/"
    },
    "id": "c86c9a5d-471e-4959-b3f4-a6b383a3e2a6",
    "outputId": "256c42bc-e622-47dd-b63f-90439feaf757"
   },
   "outputs": [
    {
     "name": "stdout",
     "output_type": "stream",
     "text": [
      "<class 'pandas.core.frame.DataFrame'>\n",
      "RangeIndex: 200 entries, 0 to 199\n",
      "Data columns (total 5 columns):\n",
      " #   Column                  Non-Null Count  Dtype \n",
      "---  ------                  --------------  ----- \n",
      " 0   CustomerID              200 non-null    int64 \n",
      " 1   Gender                  200 non-null    object\n",
      " 2   Age                     200 non-null    int64 \n",
      " 3   Annual Income (k$)      200 non-null    int64 \n",
      " 4   Spending Score (1-100)  200 non-null    int64 \n",
      "dtypes: int64(4), object(1)\n",
      "memory usage: 7.9+ KB\n"
     ]
    }
   ],
   "source": [
    "#Revisión del tipo de datos y datos faltantes\n",
    "\n",
    "Datos.info()"
   ]
  },
  {
   "cell_type": "code",
   "execution_count": 37,
   "id": "7f0ecde7-c94f-4da6-9670-d6137d36155a",
   "metadata": {
    "id": "7f0ecde7-c94f-4da6-9670-d6137d36155a"
   },
   "outputs": [],
   "source": [
    "# Filtra Datos Atípicos\n",
    "\n",
    "Datos=Datos[(Datos['CustomerID']<nivel_maximo)&(Datos['CustomerID']>nivel_minimo)]"
   ]
  },
  {
   "cell_type": "code",
   "execution_count": 19,
   "id": "fb164b06-93d6-499f-bb65-0f94092c4179",
   "metadata": {
    "colab": {
     "base_uri": "https://localhost:8080/"
    },
    "id": "fb164b06-93d6-499f-bb65-0f94092c4179",
    "outputId": "2551a160-3455-4882-e4a4-3168799b78d2"
   },
   "outputs": [
    {
     "name": "stdout",
     "output_type": "stream",
     "text": [
      "<class 'pandas.core.frame.DataFrame'>\n",
      "Index: 99 entries, 0 to 98\n",
      "Data columns (total 5 columns):\n",
      " #   Column                  Non-Null Count  Dtype \n",
      "---  ------                  --------------  ----- \n",
      " 0   CustomerID              99 non-null     int64 \n",
      " 1   Gender                  99 non-null     object\n",
      " 2   Age                     99 non-null     int64 \n",
      " 3   Annual Income (k$)      99 non-null     int64 \n",
      " 4   Spending Score (1-100)  99 non-null     int64 \n",
      "dtypes: int64(4), object(1)\n",
      "memory usage: 4.6+ KB\n"
     ]
    }
   ],
   "source": [
    "#Revisión del tipo de datos y datos faltantes\n",
    "\n",
    "Datos.info()"
   ]
  },
  {
   "cell_type": "markdown",
   "id": "46836140-d924-4b1b-b029-d62af59bf9df",
   "metadata": {
    "id": "46836140-d924-4b1b-b029-d62af59bf9df"
   },
   "source": [
    "## 3. Seleccionar las características más relevantes para entrenar el modelo utilizando selección de características"
   ]
  },
  {
   "cell_type": "code",
   "execution_count": 39,
   "id": "de558851-deca-4ac5-a52d-231ee80523e1",
   "metadata": {
    "colab": {
     "base_uri": "https://localhost:8080/"
    },
    "id": "de558851-deca-4ac5-a52d-231ee80523e1",
    "outputId": "f8113fee-d92d-4896-8dd8-834724d29101"
   },
   "outputs": [
    {
     "name": "stdout",
     "output_type": "stream",
     "text": [
      "Index(['CustomerID', 'Gender', 'Age', 'Annual Income (k$)',\n",
      "       'Spending Score (1-100)'],\n",
      "      dtype='object')\n"
     ]
    }
   ],
   "source": [
    "print(Datos.columns)"
   ]
  },
  {
   "cell_type": "code",
   "execution_count": 41,
   "id": "0371aa18-dbd7-4f81-b9c7-4925c5fcc7ed",
   "metadata": {
    "id": "0371aa18-dbd7-4f81-b9c7-4925c5fcc7ed"
   },
   "outputs": [],
   "source": [
    "# Filtrar columnas del modelo\n",
    "\n",
    "Datos1 = Datos[[\"Age\",\"Gender\",\"Annual Income (k$)\",\"Spending Score (1-100)\"]]"
   ]
  },
  {
   "cell_type": "code",
   "execution_count": 43,
   "id": "94044ead-f9ab-44d9-9e0f-b097f6af34c8",
   "metadata": {
    "colab": {
     "base_uri": "https://localhost:8080/",
     "height": 1000
    },
    "id": "94044ead-f9ab-44d9-9e0f-b097f6af34c8",
    "outputId": "7cd8673c-ab45-4db2-b162-b9bfa2f11fed"
   },
   "outputs": [
    {
     "data": {
      "text/html": [
       "<div>\n",
       "<style scoped>\n",
       "    .dataframe tbody tr th:only-of-type {\n",
       "        vertical-align: middle;\n",
       "    }\n",
       "\n",
       "    .dataframe tbody tr th {\n",
       "        vertical-align: top;\n",
       "    }\n",
       "\n",
       "    .dataframe thead th {\n",
       "        text-align: right;\n",
       "    }\n",
       "</style>\n",
       "<table border=\"1\" class=\"dataframe\">\n",
       "  <thead>\n",
       "    <tr style=\"text-align: right;\">\n",
       "      <th></th>\n",
       "      <th>Age</th>\n",
       "      <th>Gender</th>\n",
       "      <th>Annual Income (k$)</th>\n",
       "      <th>Spending Score (1-100)</th>\n",
       "    </tr>\n",
       "  </thead>\n",
       "  <tbody>\n",
       "    <tr>\n",
       "      <th>0</th>\n",
       "      <td>19</td>\n",
       "      <td>Male</td>\n",
       "      <td>15</td>\n",
       "      <td>39</td>\n",
       "    </tr>\n",
       "    <tr>\n",
       "      <th>1</th>\n",
       "      <td>21</td>\n",
       "      <td>Male</td>\n",
       "      <td>15</td>\n",
       "      <td>81</td>\n",
       "    </tr>\n",
       "    <tr>\n",
       "      <th>2</th>\n",
       "      <td>20</td>\n",
       "      <td>Female</td>\n",
       "      <td>16</td>\n",
       "      <td>6</td>\n",
       "    </tr>\n",
       "    <tr>\n",
       "      <th>3</th>\n",
       "      <td>23</td>\n",
       "      <td>Female</td>\n",
       "      <td>16</td>\n",
       "      <td>77</td>\n",
       "    </tr>\n",
       "    <tr>\n",
       "      <th>4</th>\n",
       "      <td>31</td>\n",
       "      <td>Female</td>\n",
       "      <td>17</td>\n",
       "      <td>40</td>\n",
       "    </tr>\n",
       "    <tr>\n",
       "      <th>5</th>\n",
       "      <td>22</td>\n",
       "      <td>Female</td>\n",
       "      <td>17</td>\n",
       "      <td>76</td>\n",
       "    </tr>\n",
       "    <tr>\n",
       "      <th>6</th>\n",
       "      <td>35</td>\n",
       "      <td>Female</td>\n",
       "      <td>18</td>\n",
       "      <td>6</td>\n",
       "    </tr>\n",
       "    <tr>\n",
       "      <th>7</th>\n",
       "      <td>23</td>\n",
       "      <td>Female</td>\n",
       "      <td>18</td>\n",
       "      <td>94</td>\n",
       "    </tr>\n",
       "    <tr>\n",
       "      <th>8</th>\n",
       "      <td>64</td>\n",
       "      <td>Male</td>\n",
       "      <td>19</td>\n",
       "      <td>3</td>\n",
       "    </tr>\n",
       "    <tr>\n",
       "      <th>9</th>\n",
       "      <td>30</td>\n",
       "      <td>Female</td>\n",
       "      <td>19</td>\n",
       "      <td>72</td>\n",
       "    </tr>\n",
       "    <tr>\n",
       "      <th>10</th>\n",
       "      <td>67</td>\n",
       "      <td>Male</td>\n",
       "      <td>19</td>\n",
       "      <td>14</td>\n",
       "    </tr>\n",
       "    <tr>\n",
       "      <th>11</th>\n",
       "      <td>35</td>\n",
       "      <td>Female</td>\n",
       "      <td>19</td>\n",
       "      <td>99</td>\n",
       "    </tr>\n",
       "    <tr>\n",
       "      <th>12</th>\n",
       "      <td>58</td>\n",
       "      <td>Female</td>\n",
       "      <td>20</td>\n",
       "      <td>15</td>\n",
       "    </tr>\n",
       "    <tr>\n",
       "      <th>13</th>\n",
       "      <td>24</td>\n",
       "      <td>Female</td>\n",
       "      <td>20</td>\n",
       "      <td>77</td>\n",
       "    </tr>\n",
       "    <tr>\n",
       "      <th>14</th>\n",
       "      <td>37</td>\n",
       "      <td>Male</td>\n",
       "      <td>20</td>\n",
       "      <td>13</td>\n",
       "    </tr>\n",
       "    <tr>\n",
       "      <th>15</th>\n",
       "      <td>22</td>\n",
       "      <td>Male</td>\n",
       "      <td>20</td>\n",
       "      <td>79</td>\n",
       "    </tr>\n",
       "    <tr>\n",
       "      <th>16</th>\n",
       "      <td>35</td>\n",
       "      <td>Female</td>\n",
       "      <td>21</td>\n",
       "      <td>35</td>\n",
       "    </tr>\n",
       "    <tr>\n",
       "      <th>17</th>\n",
       "      <td>20</td>\n",
       "      <td>Male</td>\n",
       "      <td>21</td>\n",
       "      <td>66</td>\n",
       "    </tr>\n",
       "    <tr>\n",
       "      <th>18</th>\n",
       "      <td>52</td>\n",
       "      <td>Male</td>\n",
       "      <td>23</td>\n",
       "      <td>29</td>\n",
       "    </tr>\n",
       "    <tr>\n",
       "      <th>19</th>\n",
       "      <td>35</td>\n",
       "      <td>Female</td>\n",
       "      <td>23</td>\n",
       "      <td>98</td>\n",
       "    </tr>\n",
       "    <tr>\n",
       "      <th>20</th>\n",
       "      <td>35</td>\n",
       "      <td>Male</td>\n",
       "      <td>24</td>\n",
       "      <td>35</td>\n",
       "    </tr>\n",
       "    <tr>\n",
       "      <th>21</th>\n",
       "      <td>25</td>\n",
       "      <td>Male</td>\n",
       "      <td>24</td>\n",
       "      <td>73</td>\n",
       "    </tr>\n",
       "    <tr>\n",
       "      <th>22</th>\n",
       "      <td>46</td>\n",
       "      <td>Female</td>\n",
       "      <td>25</td>\n",
       "      <td>5</td>\n",
       "    </tr>\n",
       "    <tr>\n",
       "      <th>23</th>\n",
       "      <td>31</td>\n",
       "      <td>Male</td>\n",
       "      <td>25</td>\n",
       "      <td>73</td>\n",
       "    </tr>\n",
       "    <tr>\n",
       "      <th>24</th>\n",
       "      <td>54</td>\n",
       "      <td>Female</td>\n",
       "      <td>28</td>\n",
       "      <td>14</td>\n",
       "    </tr>\n",
       "    <tr>\n",
       "      <th>25</th>\n",
       "      <td>29</td>\n",
       "      <td>Male</td>\n",
       "      <td>28</td>\n",
       "      <td>82</td>\n",
       "    </tr>\n",
       "    <tr>\n",
       "      <th>26</th>\n",
       "      <td>45</td>\n",
       "      <td>Female</td>\n",
       "      <td>28</td>\n",
       "      <td>32</td>\n",
       "    </tr>\n",
       "    <tr>\n",
       "      <th>27</th>\n",
       "      <td>35</td>\n",
       "      <td>Male</td>\n",
       "      <td>28</td>\n",
       "      <td>61</td>\n",
       "    </tr>\n",
       "    <tr>\n",
       "      <th>28</th>\n",
       "      <td>40</td>\n",
       "      <td>Female</td>\n",
       "      <td>29</td>\n",
       "      <td>31</td>\n",
       "    </tr>\n",
       "    <tr>\n",
       "      <th>29</th>\n",
       "      <td>23</td>\n",
       "      <td>Female</td>\n",
       "      <td>29</td>\n",
       "      <td>87</td>\n",
       "    </tr>\n",
       "    <tr>\n",
       "      <th>30</th>\n",
       "      <td>60</td>\n",
       "      <td>Male</td>\n",
       "      <td>30</td>\n",
       "      <td>4</td>\n",
       "    </tr>\n",
       "    <tr>\n",
       "      <th>31</th>\n",
       "      <td>21</td>\n",
       "      <td>Female</td>\n",
       "      <td>30</td>\n",
       "      <td>73</td>\n",
       "    </tr>\n",
       "    <tr>\n",
       "      <th>32</th>\n",
       "      <td>53</td>\n",
       "      <td>Male</td>\n",
       "      <td>33</td>\n",
       "      <td>4</td>\n",
       "    </tr>\n",
       "    <tr>\n",
       "      <th>33</th>\n",
       "      <td>18</td>\n",
       "      <td>Male</td>\n",
       "      <td>33</td>\n",
       "      <td>92</td>\n",
       "    </tr>\n",
       "    <tr>\n",
       "      <th>34</th>\n",
       "      <td>49</td>\n",
       "      <td>Female</td>\n",
       "      <td>33</td>\n",
       "      <td>14</td>\n",
       "    </tr>\n",
       "    <tr>\n",
       "      <th>35</th>\n",
       "      <td>21</td>\n",
       "      <td>Female</td>\n",
       "      <td>33</td>\n",
       "      <td>81</td>\n",
       "    </tr>\n",
       "    <tr>\n",
       "      <th>36</th>\n",
       "      <td>42</td>\n",
       "      <td>Female</td>\n",
       "      <td>34</td>\n",
       "      <td>17</td>\n",
       "    </tr>\n",
       "    <tr>\n",
       "      <th>37</th>\n",
       "      <td>30</td>\n",
       "      <td>Female</td>\n",
       "      <td>34</td>\n",
       "      <td>73</td>\n",
       "    </tr>\n",
       "    <tr>\n",
       "      <th>38</th>\n",
       "      <td>36</td>\n",
       "      <td>Female</td>\n",
       "      <td>37</td>\n",
       "      <td>26</td>\n",
       "    </tr>\n",
       "    <tr>\n",
       "      <th>39</th>\n",
       "      <td>20</td>\n",
       "      <td>Female</td>\n",
       "      <td>37</td>\n",
       "      <td>75</td>\n",
       "    </tr>\n",
       "  </tbody>\n",
       "</table>\n",
       "</div>"
      ],
      "text/plain": [
       "    Age  Gender  Annual Income (k$)  Spending Score (1-100)\n",
       "0    19    Male                  15                      39\n",
       "1    21    Male                  15                      81\n",
       "2    20  Female                  16                       6\n",
       "3    23  Female                  16                      77\n",
       "4    31  Female                  17                      40\n",
       "5    22  Female                  17                      76\n",
       "6    35  Female                  18                       6\n",
       "7    23  Female                  18                      94\n",
       "8    64    Male                  19                       3\n",
       "9    30  Female                  19                      72\n",
       "10   67    Male                  19                      14\n",
       "11   35  Female                  19                      99\n",
       "12   58  Female                  20                      15\n",
       "13   24  Female                  20                      77\n",
       "14   37    Male                  20                      13\n",
       "15   22    Male                  20                      79\n",
       "16   35  Female                  21                      35\n",
       "17   20    Male                  21                      66\n",
       "18   52    Male                  23                      29\n",
       "19   35  Female                  23                      98\n",
       "20   35    Male                  24                      35\n",
       "21   25    Male                  24                      73\n",
       "22   46  Female                  25                       5\n",
       "23   31    Male                  25                      73\n",
       "24   54  Female                  28                      14\n",
       "25   29    Male                  28                      82\n",
       "26   45  Female                  28                      32\n",
       "27   35    Male                  28                      61\n",
       "28   40  Female                  29                      31\n",
       "29   23  Female                  29                      87\n",
       "30   60    Male                  30                       4\n",
       "31   21  Female                  30                      73\n",
       "32   53    Male                  33                       4\n",
       "33   18    Male                  33                      92\n",
       "34   49  Female                  33                      14\n",
       "35   21  Female                  33                      81\n",
       "36   42  Female                  34                      17\n",
       "37   30  Female                  34                      73\n",
       "38   36  Female                  37                      26\n",
       "39   20  Female                  37                      75"
      ]
     },
     "execution_count": 43,
     "metadata": {},
     "output_type": "execute_result"
    }
   ],
   "source": [
    "# Revisión de los datos de las variables objetivo\n",
    "Datos1.head(40)"
   ]
  },
  {
   "cell_type": "code",
   "execution_count": 45,
   "id": "a8aeecd6-6122-4083-a324-5239fb333106",
   "metadata": {
    "colab": {
     "base_uri": "https://localhost:8080/",
     "height": 524
    },
    "id": "a8aeecd6-6122-4083-a324-5239fb333106",
    "outputId": "5d5cd9bc-2e20-4182-b7f5-49f78dc5e112"
   },
   "outputs": [
    {
     "data": {
      "image/png": "[encoded data removed]",
      "text/plain": [
       "<Figure size 1000x600 with 1 Axes>"
      ]
     },
     "metadata": {},
     "output_type": "display_data"
    }
   ],
   "source": [
    "# Grafica antes del agrupamiento\n",
    "\n",
    "plt.figure(figsize=(10, 6))\n",
    "sns.scatterplot(x=Datos1['Age'], y=Datos1['Annual Income (k$)'])\n",
    "plt.title('Distribución de Edad versus ingresos anuales de clientes')\n",
    "plt.xlabel('Ingresos anuales del cliente')\n",
    "plt.ylabel('Age')\n",
    "plt.show()"
   ]
  },
  {
   "cell_type": "code",
   "execution_count": 47,
   "id": "5c9ec673-1db9-42cc-9d16-53641825a894",
   "metadata": {
    "colab": {
     "base_uri": "https://localhost:8080/",
     "height": 523
    },
    "id": "5c9ec673-1db9-42cc-9d16-53641825a894",
    "outputId": "bde40613-b819-49d9-9b61-414cb4db4b8c"
   },
   "outputs": [
    {
     "data": {
      "image/png": "[encoded data removed]",
      "text/plain": [
       "<Figure size 1000x600 with 1 Axes>"
      ]
     },
     "metadata": {},
     "output_type": "display_data"
    }
   ],
   "source": [
    "# Grafica antes del agrupamiento\n",
    "\n",
    "plt.figure(figsize=(10, 6))\n",
    "sns.scatterplot(x=Datos1['Spending Score (1-100)'], y=Datos1['Age'])\n",
    "plt.title('Distribución de Edad versus datacrédito')\n",
    "plt.xlabel('Datacrédito')\n",
    "plt.ylabel('Age')\n",
    "plt.show()"
   ]
  },
  {
   "cell_type": "code",
   "execution_count": 25,
   "id": "c12d6272-5418-430e-9626-aff1570eaa4a",
   "metadata": {
    "colab": {
     "base_uri": "https://localhost:8080/",
     "height": 504
    },
    "id": "c12d6272-5418-430e-9626-aff1570eaa4a",
    "outputId": "58091109-f4da-41a9-f75e-255813bd18e5"
   },
   "outputs": [
    {
     "data": {
      "image/png": "[encoded data removed]",
      "text/plain": [
       "<Figure size 1000x600 with 1 Axes>"
      ]
     },
     "metadata": {},
     "output_type": "display_data"
    }
   ],
   "source": [
    "# Grafica antes del agrupamiento\n",
    "\n",
    "plt.figure(figsize=(10, 6))\n",
    "sns.scatterplot(x=Datos1['Spending Score (1-100)'], y=Datos1['Gender'])\n",
    "plt.title('Distribución de Genero versus Datacredito')\n",
    "plt.xlabel('Datacrédito')\n",
    "plt.ylabel('Gender')\n",
    "plt.show()"
   ]
  },
  {
   "cell_type": "code",
   "execution_count": 49,
   "id": "007c6ac0-9e95-43d2-a3d0-866fc3f329c4",
   "metadata": {
    "colab": {
     "base_uri": "https://localhost:8080/",
     "height": 523
    },
    "id": "007c6ac0-9e95-43d2-a3d0-866fc3f329c4",
    "outputId": "7cfc3cef-a100-4aa4-ede3-d1ecabc9dfeb"
   },
   "outputs": [
    {
     "data": {
      "image/png": "[encoded data removed]",
      "text/plain": [
       "<Figure size 1000x600 with 1 Axes>"
      ]
     },
     "metadata": {},
     "output_type": "display_data"
    }
   ],
   "source": [
    "# Grafica antes del agrupamiento\n",
    "\n",
    "plt.figure(figsize=(10, 6))\n",
    "sns.scatterplot(x=Datos1['Spending Score (1-100)'], y=Datos1['Annual Income (k$)'])\n",
    "plt.title('Distribución de Genero versus Datacredito')\n",
    "plt.xlabel('Datacrédito')\n",
    "plt.ylabel('Annual Income (k$)')\n",
    "plt.show()"
   ]
  },
  {
   "cell_type": "markdown",
   "id": "bbd2045a-7a96-4235-a536-fcc8f3a2df89",
   "metadata": {
    "id": "bbd2045a-7a96-4235-a536-fcc8f3a2df89"
   },
   "source": [
    "## 4. Entrenar el modelo configurando los diferentes hiperparámetros"
   ]
  },
  {
   "cell_type": "code",
   "execution_count": 51,
   "id": "c0a21639-3119-48b0-bf51-cdd2dacdecaf",
   "metadata": {
    "id": "c0a21639-3119-48b0-bf51-cdd2dacdecaf"
   },
   "outputs": [],
   "source": [
    "scaler = StandardScaler()\n",
    "scaled_data = scaler.fit_transform(Datos[['Annual Income (k$)', 'Spending Score (1-100)']])"
   ]
  },
  {
   "cell_type": "code",
   "execution_count": 53,
   "id": "4261e27c-9d2f-4904-9668-8fa83ab5af86",
   "metadata": {
    "colab": {
     "base_uri": "https://localhost:8080/",
     "height": 591
    },
    "id": "4261e27c-9d2f-4904-9668-8fa83ab5af86",
    "outputId": "602e8f27-55df-4236-cd6e-24ed61a9753d"
   },
   "outputs": [
    {
     "data": {
      "image/png": "[encoded data removed]",
      "text/plain": [
       "<Figure size 1000x700 with 1 Axes>"
      ]
     },
     "metadata": {},
     "output_type": "display_data"
    }
   ],
   "source": [
    "# Check for and handle non-finite values in scaled_data\n",
    "scaled_data = np.nan_to_num(scaled_data)  # Reemplaza valores NaN, inf y -inf con valores finitos\n",
    "\n",
    "# Continue with hierarchical clustering\n",
    "linked = linkage(scaled_data, method='ward') # Realiza el enlace jerárquico con el método de Ward\n",
    "\n",
    "plt.figure(figsize=(10, 7))\n",
    "dendrogram(linked, orientation='top', distance_sort='descending', show_leaf_counts=False) # Dibuja el dendrograma\n",
    "plt.title('Dendrograma para Clustering Jerárquico')\n",
    "plt.xlabel('Clúster')\n",
    "plt.ylabel('Distancia')\n",
    "plt.show()"
   ]
  },
  {
   "cell_type": "markdown",
   "id": "389d9a66-8e46-4e16-a144-9f50611c4060",
   "metadata": {
    "id": "389d9a66-8e46-4e16-a144-9f50611c4060"
   },
   "source": [
    "## Evaluar el desempeño del modelo con métricas como Coeficiente de Silhouette, Índice de Calinski-Harabasz, etc"
   ]
  },
  {
   "cell_type": "code",
   "execution_count": 55,
   "id": "c7125be8-1bef-42d7-8cae-4c12b0cc6f5e",
   "metadata": {
    "colab": {
     "base_uri": "https://localhost:8080/"
    },
    "id": "c7125be8-1bef-42d7-8cae-4c12b0cc6f5e",
    "outputId": "f1ccd88b-ef9d-4ca9-c200-eb978d8eef8e"
   },
   "outputs": [
    {
     "name": "stdout",
     "output_type": "stream",
     "text": [
      "Coeficiente de Silhouette: 0.603353690258569\n",
      "Índice de Calinski-Harabasz: 175.01024019316128\n",
      "Índice de Davies-Bouldin: 0.5389204754713809\n"
     ]
    }
   ],
   "source": [
    "# Assuming 'Datos' is your DataFrame\n",
    "# Replace NaNs with the mean of each column\n",
    "Datos[[ 'Annual Income (k$)', 'Spending Score (1-100)']] = Datos[['Annual Income (k$)', 'Spending Score (1-100)']].fillna(Datos[['Annual Income (k$)', 'Spending Score (1-100)']].mean())\n",
    "\n",
    "# Preprocesamiento de los datos\n",
    "scaler = StandardScaler()\n",
    "scaled_data = scaler.fit_transform(Datos[['Annual Income (k$)', 'Spending Score (1-100)']])\n",
    "\n",
    "# Entrenamiento del modelo de Clustering Jerárquico\n",
    "model = AgglomerativeClustering(n_clusters=3, linkage='ward')\n",
    "labels = model.fit_predict(scaled_data)\n",
    "\n",
    "# Evaluación del modelo\n",
    "\n",
    "# Coeficiente de Silhouette\n",
    "sil_score = silhouette_score(scaled_data, labels)\n",
    "print(f\"Coeficiente de Silhouette: {sil_score}\")\n",
    "\n",
    "# Índice de Calinski-Harabasz\n",
    "ch_score = calinski_harabasz_score(scaled_data, labels)\n",
    "print(f\"Índice de Calinski-Harabasz: {ch_score}\")\n",
    "\n",
    "# Índice de Davies-Bouldin\n",
    "db_score = davies_bouldin_score(scaled_data, labels)\n",
    "print(f\"Índice de Davies-Bouldin: {db_score}\")"
   ]
  },
  {
   "cell_type": "markdown",
   "id": "fc2b5b44-708f-4c1a-854c-8654bbdad403",
   "metadata": {
    "id": "fc2b5b44-708f-4c1a-854c-8654bbdad403"
   },
   "source": [
    "## 6. Realizar las diferentes gráficas que permitan visualizar los resultados del modelo"
   ]
  },
  {
   "cell_type": "code",
   "execution_count": 57,
   "id": "e439535d-7d9e-40ad-a6a3-28b39e14d659",
   "metadata": {
    "colab": {
     "base_uri": "https://localhost:8080/",
     "height": 602
    },
    "id": "e439535d-7d9e-40ad-a6a3-28b39e14d659",
    "outputId": "f0d7676a-414c-4fe6-bc78-8023ac85bfda"
   },
   "outputs": [
    {
     "name": "stdout",
     "output_type": "stream",
     "text": [
      "Silhouette Score: 0.603353690258569\n"
     ]
    },
    {
     "data": {
      "image/png": "[encoded data removed]",
      "text/plain": [
       "<Figure size 1000x700 with 1 Axes>"
      ]
     },
     "metadata": {},
     "output_type": "display_data"
    }
   ],
   "source": [
    "from sklearn.metrics import silhouette_samples, silhouette_score\n",
    "import matplotlib.pyplot as plt\n",
    "\n",
    "# Calcular la silueta\n",
    "silhouette_avg = silhouette_score(scaled_data, model.labels_)\n",
    "print(f'Silhouette Score: {silhouette_avg}')\n",
    "\n",
    "# Mostrar el gráfico de silueta\n",
    "sample_silhouette_values = silhouette_samples(scaled_data, model.labels_)\n",
    "fig, ax = plt.subplots(figsize=(10, 7))\n",
    "\n",
    "ax.plot(sample_silhouette_values, 'bo')\n",
    "ax.axvline(x=silhouette_avg, color=\"red\", linestyle=\"--\")\n",
    "ax.set_title(\"Gráfico de Silueta para Clustering Jerárquico\")\n",
    "ax.set_xlabel(\"Valor de Silueta\")\n",
    "ax.set_ylabel(\"Muestras\")\n",
    "plt.show()"
   ]
  },
  {
   "cell_type": "markdown",
   "id": "4b34e723-1aa5-419f-94dd-a30ebf10a2b9",
   "metadata": {
    "id": "4b34e723-1aa5-419f-94dd-a30ebf10a2b9"
   },
   "source": [
    "## Gráfico de Dispersión para Visualización de Clusters"
   ]
  },
  {
   "cell_type": "code",
   "execution_count": 59,
   "id": "be335c5c-ad51-4e6c-b887-a3073d41969a",
   "metadata": {
    "id": "be335c5c-ad51-4e6c-b887-a3073d41969a"
   },
   "outputs": [],
   "source": [
    "import pandas as pd\n",
    "import matplotlib.pyplot as plt\n",
    "from sklearn.cluster import AgglomerativeClustering"
   ]
  },
  {
   "cell_type": "code",
   "execution_count": 72,
   "id": "a484ac7b-666c-4362-934e-3e9f7d12b648",
   "metadata": {
    "colab": {
     "base_uri": "https://localhost:8080/",
     "height": 565
    },
    "id": "a484ac7b-666c-4362-934e-3e9f7d12b648",
    "outputId": "4e020e3f-68be-479e-9280-9e437f4a159f"
   },
   "outputs": [
    {
     "data": {
      "image/png": "[encoded data removed]",
      "text/plain": [
       "<Figure size 800x600 with 1 Axes>"
      ]
     },
     "metadata": {},
     "output_type": "display_data"
    }
   ],
   "source": [
    "from sklearn.cluster import AgglomerativeClustering\n",
    "import matplotlib.pyplot as plt\n",
    "\n",
    "# Aplicar el modelo de clustering jerárquico\n",
    "model = AgglomerativeClustering(n_clusters=4)  # Ajustar el número de clusters\n",
    "Datos1['Cluster'] = model.fit_predict(scaled_data)\n",
    "# Graficar los clusters\n",
    "plt.figure(figsize=(8, 6))\n",
    "plt.scatter(Datos['Annual Income (k$)'], Datos['Spending Score (1-100)'], c=Datos1['Cluster'], cmap='viridis')\n",
    "plt.title('Clusters Identificados con Clustering Jerárquico')\n",
    "plt.xlabel('Edad')\n",
    "plt.ylabel('Ingreso')\n",
    "plt.show()"
   ]
  },
  {
   "cell_type": "markdown",
   "id": "e506568c-a3b3-493c-8228-5663e8e25f0c",
   "metadata": {},
   "source": [
    "## 7. Interpretar, analizar y documentar los resultados obtenidos"
   ]
  },
  {
   "cell_type": "code",
   "execution_count": 76,
   "id": "a0bd2d01-77f5-437d-9de2-01c00714eaf4",
   "metadata": {},
   "outputs": [],
   "source": [
    "# Análisis"
   ]
  },
  {
   "cell_type": "markdown",
   "id": "4198211e-6602-4b0b-b57a-6f202d17e800",
   "metadata": {},
   "source": [
    "## 8. Crear una cuenta en GitHub y cargar los códigos de los modelos diseñados https://github.com/"
   ]
  },
  {
   "cell_type": "markdown",
   "id": "e6110144-8bfe-4799-bbb8-726c2688a5aa",
   "metadata": {},
   "source": [
    "## Realizado por:"
   ]
  },
  {
   "cell_type": "markdown",
   "id": "10c64008-38c9-4bce-a5fe-eb4b444de7d8",
   "metadata": {},
   "source": [
    "## Manuel Hernández\n",
    "## Estiven Romero\n",
    "## Andrey Quitián "
   ]
  },
  {
   "cell_type": "code",
   "execution_count": null,
   "id": "bf57e67f-a389-4f48-9e44-774321808e7c",
   "metadata": {},
   "outputs": [],
   "source": []
  }
 ],
 "metadata": {
  "colab": {
   "provenance": []
  },
  "kernelspec": {
   "display_name": "Python 3 (ipykernel)",
   "language": "python",
   "name": "python3"
  },
  "language_info": {
   "codemirror_mode": {
    "name": "ipython",
    "version": 3
   },
   "file_extension": ".py",
   "mimetype": "text/x-python",
   "name": "python",
   "nbconvert_exporter": "python",
   "pygments_lexer": "ipython3",
   "version": "3.12.4"
  }
 },
 "nbformat": 4,
 "nbformat_minor": 5
}
